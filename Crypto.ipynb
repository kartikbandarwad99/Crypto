{
  "nbformat": 4,
  "nbformat_minor": 0,
  "metadata": {
    "colab": {
      "name": "Crypto.ipynb",
      "provenance": [],
      "collapsed_sections": [],
      "toc_visible": true,
      "authorship_tag": "ABX9TyMIHSbiwG1BfL1b2a9qCWyG",
      "include_colab_link": true
    },
    "kernelspec": {
      "name": "python3",
      "display_name": "Python 3"
    },
    "language_info": {
      "name": "python"
    }
  },
  "cells": [
    {
      "cell_type": "markdown",
      "metadata": {
        "id": "view-in-github",
        "colab_type": "text"
      },
      "source": [
        "<a href=\"https://colab.research.google.com/github/kartikbandarwad99/Crypto/blob/main/Crypto.ipynb\" target=\"_parent\"><img src=\"https://colab.research.google.com/assets/colab-badge.svg\" alt=\"Open In Colab\"/></a>"
      ]
    },
    {
      "cell_type": "code",
      "source": [
        "!pip install yfinance"
      ],
      "metadata": {
        "colab": {
          "base_uri": "https://localhost:8080/"
        },
        "id": "A3r9EK3-M-PC",
        "outputId": "f81ab155-4c75-449a-cf07-c9413df389e1"
      },
      "execution_count": 18,
      "outputs": [
        {
          "output_type": "stream",
          "name": "stdout",
          "text": [
            "Requirement already satisfied: yfinance in /usr/local/lib/python3.7/dist-packages (0.1.69)\n",
            "Requirement already satisfied: pandas>=0.24 in /usr/local/lib/python3.7/dist-packages (from yfinance) (1.1.5)\n",
            "Requirement already satisfied: numpy>=1.15 in /usr/local/lib/python3.7/dist-packages (from yfinance) (1.19.5)\n",
            "Requirement already satisfied: requests>=2.26 in /usr/local/lib/python3.7/dist-packages (from yfinance) (2.27.1)\n",
            "Requirement already satisfied: multitasking>=0.0.7 in /usr/local/lib/python3.7/dist-packages (from yfinance) (0.0.10)\n",
            "Requirement already satisfied: lxml>=4.5.1 in /usr/local/lib/python3.7/dist-packages (from yfinance) (4.7.1)\n",
            "Requirement already satisfied: pytz>=2017.2 in /usr/local/lib/python3.7/dist-packages (from pandas>=0.24->yfinance) (2018.9)\n",
            "Requirement already satisfied: python-dateutil>=2.7.3 in /usr/local/lib/python3.7/dist-packages (from pandas>=0.24->yfinance) (2.8.2)\n",
            "Requirement already satisfied: six>=1.5 in /usr/local/lib/python3.7/dist-packages (from python-dateutil>=2.7.3->pandas>=0.24->yfinance) (1.15.0)\n",
            "Requirement already satisfied: charset-normalizer~=2.0.0 in /usr/local/lib/python3.7/dist-packages (from requests>=2.26->yfinance) (2.0.10)\n",
            "Requirement already satisfied: certifi>=2017.4.17 in /usr/local/lib/python3.7/dist-packages (from requests>=2.26->yfinance) (2021.10.8)\n",
            "Requirement already satisfied: idna<4,>=2.5 in /usr/local/lib/python3.7/dist-packages (from requests>=2.26->yfinance) (2.10)\n",
            "Requirement already satisfied: urllib3<1.27,>=1.21.1 in /usr/local/lib/python3.7/dist-packages (from requests>=2.26->yfinance) (1.24.3)\n"
          ]
        }
      ]
    },
    {
      "cell_type": "code",
      "source": [
        "!pip install yahoofinancials"
      ],
      "metadata": {
        "colab": {
          "base_uri": "https://localhost:8080/"
        },
        "id": "ynPZ_UGsM-Cu",
        "outputId": "4efb8a2d-8c26-467d-dd65-deb425d7c0db"
      },
      "execution_count": 19,
      "outputs": [
        {
          "output_type": "stream",
          "name": "stdout",
          "text": [
            "Requirement already satisfied: yahoofinancials in /usr/local/lib/python3.7/dist-packages (1.6)\n",
            "Requirement already satisfied: pytz in /usr/local/lib/python3.7/dist-packages (from yahoofinancials) (2018.9)\n",
            "Requirement already satisfied: beautifulsoup4 in /usr/local/lib/python3.7/dist-packages (from yahoofinancials) (4.6.3)\n"
          ]
        }
      ]
    },
    {
      "cell_type": "code",
      "source": [
        "import pandas as pd\n",
        "import numpy as np\n",
        "import yfinance as yf\n",
        "from yahoofinancials import YahooFinancials\n",
        "import pandas as pd\n",
        "from datetime import datetime\n",
        "today=datetime.today().strftime('%Y-%m-%d')"
      ],
      "metadata": {
        "id": "Dg3oG9blPS9w"
      },
      "execution_count": 21,
      "outputs": []
    },
    {
      "cell_type": "code",
      "source": [
        "def get_history(name):\n",
        "  yahoo_financials = YahooFinancials('{}-INR'.format(name))\n",
        "  data=yahoo_financials.get_historical_price_data(\"2010-01-01\", today, \"daily\")\n",
        "  df = pd.DataFrame(data['{}-INR'.format(name)]['prices'])\n",
        "  df = df.drop('date', axis=1)\n",
        "  df.rename(columns = {'formatted_date':'date'}, inplace = True)\n",
        "  df=df[['date','high','low','open','close','volume']]\n",
        "  return df"
      ],
      "metadata": {
        "id": "xXYEs1fYdfMz"
      },
      "execution_count": null,
      "outputs": []
    },
    {
      "cell_type": "code",
      "source": [
        "l1=['BTC','ETH','BNB','USDT','SOL','ADA','USDC','HEX','XRP','LUNA1']\n",
        "#names=['Bitcoin','Ethereum','Binance','USDT']\n",
        "def get_present_data(abvr):\n",
        "  # define lists to hold the present data of different cryptos\n",
        "  current_volume=[]\n",
        "  market_cap=[]\n",
        "  mov_avg_200=[]\n",
        "  mov_avg_50=[]\n",
        "  current_price=[]\n",
        "  # iterating through the names and fetching the data\n",
        "  for i in abvr:\n",
        "    yahoo_financials = YahooFinancials('{}-INR'.format(i))\n",
        "    vol=yahoo_financials.get_current_volume()\n",
        "    cap=yahoo_financials.get_market_cap()\n",
        "    ma_200=yahoo_financials.get_200day_moving_avg()\n",
        "    ma_50=yahoo_financials.get_50day_moving_avg()\n",
        "    cp=yahoo_financials.get_current_price()\n",
        "    current_volume.append(vol)\n",
        "    market_cap.append(cap)\n",
        "    mov_avg_200.append(ma_200)\n",
        "    mov_avg_50.append(ma_50)\n",
        "    current_price.append(cp)\n",
        "\n",
        "  # convert the data to dataframe\n",
        "  df = pd.DataFrame(list(zip(abvr,current_price,current_volume,market_cap,mov_avg_200,mov_avg_50)),columns =['Abvr','current_price','current_volume','market_cap','MA_200','MA_50'])\n",
        "  #df1.columns=['Symbol','current_price']\n",
        "  #df1['Name']=name1 \n",
        "  #df1.to_csv('Invested_cryptos.csv')\n",
        "  return df"
      ],
      "metadata": {
        "id": "-1xG3gQgDJzs"
      },
      "execution_count": 24,
      "outputs": []
    },
    {
      "cell_type": "code",
      "source": [
        "get_present_data(abvr=l1)"
      ],
      "metadata": {
        "colab": {
          "base_uri": "https://localhost:8080/",
          "height": 363
        },
        "id": "oPRy_xE_Nc5q",
        "outputId": "b67640a9-c77e-46e0-f0d6-074458686ab9"
      },
      "execution_count": 25,
      "outputs": [
        {
          "output_type": "execute_result",
          "data": {
            "text/html": [
              "\n",
              "  <div id=\"df-20d7b987-2db4-4708-b7c9-302169ec409b\">\n",
              "    <div class=\"colab-df-container\">\n",
              "      <div>\n",
              "<style scoped>\n",
              "    .dataframe tbody tr th:only-of-type {\n",
              "        vertical-align: middle;\n",
              "    }\n",
              "\n",
              "    .dataframe tbody tr th {\n",
              "        vertical-align: top;\n",
              "    }\n",
              "\n",
              "    .dataframe thead th {\n",
              "        text-align: right;\n",
              "    }\n",
              "</style>\n",
              "<table border=\"1\" class=\"dataframe\">\n",
              "  <thead>\n",
              "    <tr style=\"text-align: right;\">\n",
              "      <th></th>\n",
              "      <th>Abvr</th>\n",
              "      <th>current_price</th>\n",
              "      <th>current_volume</th>\n",
              "      <th>market_cap</th>\n",
              "      <th>MA_200</th>\n",
              "      <th>MA_50</th>\n",
              "    </tr>\n",
              "  </thead>\n",
              "  <tbody>\n",
              "    <tr>\n",
              "      <th>0</th>\n",
              "      <td>BTC</td>\n",
              "      <td>3.109862e+06</td>\n",
              "      <td>1729805549568</td>\n",
              "      <td>58882751725568</td>\n",
              "      <td>3.621711e+06</td>\n",
              "      <td>3.554012e+06</td>\n",
              "    </tr>\n",
              "    <tr>\n",
              "      <th>1</th>\n",
              "      <td>ETH</td>\n",
              "      <td>2.301848e+05</td>\n",
              "      <td>1016871649280</td>\n",
              "      <td>27444014743552</td>\n",
              "      <td>2.592128e+05</td>\n",
              "      <td>2.865084e+05</td>\n",
              "    </tr>\n",
              "    <tr>\n",
              "      <th>2</th>\n",
              "      <td>BNB</td>\n",
              "      <td>3.474973e+04</td>\n",
              "      <td>141011025920</td>\n",
              "      <td>5737762258944</td>\n",
              "      <td>3.433274e+04</td>\n",
              "      <td>3.954825e+04</td>\n",
              "    </tr>\n",
              "    <tr>\n",
              "      <th>3</th>\n",
              "      <td>USDT</td>\n",
              "      <td>7.440094e+01</td>\n",
              "      <td>3846480592896</td>\n",
              "      <td>5826677309440</td>\n",
              "      <td>7.451847e+01</td>\n",
              "      <td>7.502522e+01</td>\n",
              "    </tr>\n",
              "    <tr>\n",
              "      <th>4</th>\n",
              "      <td>SOL</td>\n",
              "      <td>1.010482e+04</td>\n",
              "      <td>112451469312</td>\n",
              "      <td>3174446923776</td>\n",
              "      <td>1.036720e+04</td>\n",
              "      <td>1.300173e+04</td>\n",
              "    </tr>\n",
              "    <tr>\n",
              "      <th>5</th>\n",
              "      <td>ADA</td>\n",
              "      <td>1.031616e+02</td>\n",
              "      <td>264079228928</td>\n",
              "      <td>3460052025344</td>\n",
              "      <td>1.355664e+02</td>\n",
              "      <td>1.008105e+02</td>\n",
              "    </tr>\n",
              "    <tr>\n",
              "      <th>6</th>\n",
              "      <td>USDC</td>\n",
              "      <td>7.435626e+01</td>\n",
              "      <td>249656229888</td>\n",
              "      <td>3408478863360</td>\n",
              "      <td>7.449267e+01</td>\n",
              "      <td>7.498438e+01</td>\n",
              "    </tr>\n",
              "    <tr>\n",
              "      <th>7</th>\n",
              "      <td>HEX</td>\n",
              "      <td>1.521260e+01</td>\n",
              "      <td>1608096512</td>\n",
              "      <td>2638033715200</td>\n",
              "      <td>1.807266e+01</td>\n",
              "      <td>1.680292e+01</td>\n",
              "    </tr>\n",
              "    <tr>\n",
              "      <th>8</th>\n",
              "      <td>XRP</td>\n",
              "      <td>5.474930e+01</td>\n",
              "      <td>114021220352</td>\n",
              "      <td>2609522409472</td>\n",
              "      <td>7.105331e+01</td>\n",
              "      <td>6.298163e+01</td>\n",
              "    </tr>\n",
              "    <tr>\n",
              "      <th>9</th>\n",
              "      <td>LUNA1</td>\n",
              "      <td>5.876880e+03</td>\n",
              "      <td>174512095232</td>\n",
              "      <td>2100658700288</td>\n",
              "      <td>3.137787e+03</td>\n",
              "      <td>5.730920e+03</td>\n",
              "    </tr>\n",
              "  </tbody>\n",
              "</table>\n",
              "</div>\n",
              "      <button class=\"colab-df-convert\" onclick=\"convertToInteractive('df-20d7b987-2db4-4708-b7c9-302169ec409b')\"\n",
              "              title=\"Convert this dataframe to an interactive table.\"\n",
              "              style=\"display:none;\">\n",
              "        \n",
              "  <svg xmlns=\"http://www.w3.org/2000/svg\" height=\"24px\"viewBox=\"0 0 24 24\"\n",
              "       width=\"24px\">\n",
              "    <path d=\"M0 0h24v24H0V0z\" fill=\"none\"/>\n",
              "    <path d=\"M18.56 5.44l.94 2.06.94-2.06 2.06-.94-2.06-.94-.94-2.06-.94 2.06-2.06.94zm-11 1L8.5 8.5l.94-2.06 2.06-.94-2.06-.94L8.5 2.5l-.94 2.06-2.06.94zm10 10l.94 2.06.94-2.06 2.06-.94-2.06-.94-.94-2.06-.94 2.06-2.06.94z\"/><path d=\"M17.41 7.96l-1.37-1.37c-.4-.4-.92-.59-1.43-.59-.52 0-1.04.2-1.43.59L10.3 9.45l-7.72 7.72c-.78.78-.78 2.05 0 2.83L4 21.41c.39.39.9.59 1.41.59.51 0 1.02-.2 1.41-.59l7.78-7.78 2.81-2.81c.8-.78.8-2.07 0-2.86zM5.41 20L4 18.59l7.72-7.72 1.47 1.35L5.41 20z\"/>\n",
              "  </svg>\n",
              "      </button>\n",
              "      \n",
              "  <style>\n",
              "    .colab-df-container {\n",
              "      display:flex;\n",
              "      flex-wrap:wrap;\n",
              "      gap: 12px;\n",
              "    }\n",
              "\n",
              "    .colab-df-convert {\n",
              "      background-color: #E8F0FE;\n",
              "      border: none;\n",
              "      border-radius: 50%;\n",
              "      cursor: pointer;\n",
              "      display: none;\n",
              "      fill: #1967D2;\n",
              "      height: 32px;\n",
              "      padding: 0 0 0 0;\n",
              "      width: 32px;\n",
              "    }\n",
              "\n",
              "    .colab-df-convert:hover {\n",
              "      background-color: #E2EBFA;\n",
              "      box-shadow: 0px 1px 2px rgba(60, 64, 67, 0.3), 0px 1px 3px 1px rgba(60, 64, 67, 0.15);\n",
              "      fill: #174EA6;\n",
              "    }\n",
              "\n",
              "    [theme=dark] .colab-df-convert {\n",
              "      background-color: #3B4455;\n",
              "      fill: #D2E3FC;\n",
              "    }\n",
              "\n",
              "    [theme=dark] .colab-df-convert:hover {\n",
              "      background-color: #434B5C;\n",
              "      box-shadow: 0px 1px 3px 1px rgba(0, 0, 0, 0.15);\n",
              "      filter: drop-shadow(0px 1px 2px rgba(0, 0, 0, 0.3));\n",
              "      fill: #FFFFFF;\n",
              "    }\n",
              "  </style>\n",
              "\n",
              "      <script>\n",
              "        const buttonEl =\n",
              "          document.querySelector('#df-20d7b987-2db4-4708-b7c9-302169ec409b button.colab-df-convert');\n",
              "        buttonEl.style.display =\n",
              "          google.colab.kernel.accessAllowed ? 'block' : 'none';\n",
              "\n",
              "        async function convertToInteractive(key) {\n",
              "          const element = document.querySelector('#df-20d7b987-2db4-4708-b7c9-302169ec409b');\n",
              "          const dataTable =\n",
              "            await google.colab.kernel.invokeFunction('convertToInteractive',\n",
              "                                                     [key], {});\n",
              "          if (!dataTable) return;\n",
              "\n",
              "          const docLinkHtml = 'Like what you see? Visit the ' +\n",
              "            '<a target=\"_blank\" href=https://colab.research.google.com/notebooks/data_table.ipynb>data table notebook</a>'\n",
              "            + ' to learn more about interactive tables.';\n",
              "          element.innerHTML = '';\n",
              "          dataTable['output_type'] = 'display_data';\n",
              "          await google.colab.output.renderOutput(dataTable, element);\n",
              "          const docLink = document.createElement('div');\n",
              "          docLink.innerHTML = docLinkHtml;\n",
              "          element.appendChild(docLink);\n",
              "        }\n",
              "      </script>\n",
              "    </div>\n",
              "  </div>\n",
              "  "
            ],
            "text/plain": [
              "    Abvr  current_price  ...        MA_200         MA_50\n",
              "0    BTC   3.109862e+06  ...  3.621711e+06  3.554012e+06\n",
              "1    ETH   2.301848e+05  ...  2.592128e+05  2.865084e+05\n",
              "2    BNB   3.474973e+04  ...  3.433274e+04  3.954825e+04\n",
              "3   USDT   7.440094e+01  ...  7.451847e+01  7.502522e+01\n",
              "4    SOL   1.010482e+04  ...  1.036720e+04  1.300173e+04\n",
              "5    ADA   1.031616e+02  ...  1.355664e+02  1.008105e+02\n",
              "6   USDC   7.435626e+01  ...  7.449267e+01  7.498438e+01\n",
              "7    HEX   1.521260e+01  ...  1.807266e+01  1.680292e+01\n",
              "8    XRP   5.474930e+01  ...  7.105331e+01  6.298163e+01\n",
              "9  LUNA1   5.876880e+03  ...  3.137787e+03  5.730920e+03\n",
              "\n",
              "[10 rows x 6 columns]"
            ]
          },
          "metadata": {},
          "execution_count": 25
        }
      ]
    },
    {
      "cell_type": "markdown",
      "source": [
        ""
      ],
      "metadata": {
        "id": "tElOYgGGNcoV"
      }
    },
    {
      "cell_type": "code",
      "source": [
        "l2=['BTC-INR','ETH-INR','SOL-INR','SAND-INR','BAT-INR','MANA-INR','DOGE-INR']\n",
        "current_price=[]\n",
        "\n",
        "for i in l2:\n",
        "  yahoo_financials = YahooFinancials(i)\n",
        "  cp=yahoo_financials.get_current_price()\n",
        "  current_price.append(cp)\n"
      ],
      "metadata": {
        "id": "_88Mg21A-D9l"
      },
      "execution_count": null,
      "outputs": []
    },
    {
      "cell_type": "code",
      "source": [
        "df1 = pd.DataFrame(list(zip(l2,current_price )),columns =['Name','current_price'])\n",
        "df1.columns=['Symbol','current_price']\n",
        "name1=['Bitcoin','Ethereum','Solana','Sandbox','BAT','Decentraland','Dogecoin']\n",
        "df1['Name']=name1 \n",
        "df1.to_csv('Invested_cryptos.csv')"
      ],
      "metadata": {
        "id": "TQOvvpzCAMJI"
      },
      "execution_count": null,
      "outputs": []
    },
    {
      "cell_type": "code",
      "source": [
        "df.to_csv('top10_crypto_jan6.csv')"
      ],
      "metadata": {
        "id": "6-FaEg3SXoUf"
      },
      "execution_count": null,
      "outputs": []
    }
  ]
}